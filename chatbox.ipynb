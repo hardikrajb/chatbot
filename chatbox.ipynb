{
  "cells": [
    {
      "cell_type": "markdown",
      "metadata": {
        "id": "view-in-github",
        "colab_type": "text"
      },
      "source": [
        "<a href=\"https://colab.research.google.com/github/hardikrajb/chatbot/blob/main/chatbox.ipynb\" target=\"_parent\"><img src=\"https://colab.research.google.com/assets/colab-badge.svg\" alt=\"Open In Colab\"/></a>"
      ]
    },
    {
      "cell_type": "code",
      "execution_count": 1,
      "metadata": {
        "id": "iwGVYmu3K63I"
      },
      "outputs": [],
      "source": [
        "name = \"Monkey D Luffy\"\n",
        "monsoon = \"rainy\"\n",
        "mood = \"Happy\"\n",
        "resp = {\n",
        "\"what's your name?\": [\n",
        "\"They call me {0}\".format(name),\n",
        "\"I usually go by {0}\".format(name),\n",
        "\"My name is the {0}\".format(name) ],\n",
        "\"what's today's weather?\": [\n",
        "\"The weather is {0}\".format(monsoon),\n",
        "\"It's {0} today\".format(monsoon)],\n",
        "\"how are you?\": [\n",
        "\"I am feeling {0}\".format(mood),\n",
        "\"{0}! How about you?\".format(mood),\n",
        "\"I am {0}! How about yourself?\".format(mood), ],\n",
        "\"\": [\n",
        "\"Hey! Are you there?\",\n",
        "\"What do you mean by these?\",\n",
        " ],\"\"\n",
        "\"default\": [\n",
        "\"This is a default message\"] }\n"
      ]
    },
    {
      "cell_type": "code",
      "execution_count": 2,
      "metadata": {
        "id": "kbLTqgOGNntd"
      },
      "outputs": [],
      "source": [
        "import random\n",
        "def res(message):\n",
        "  if message in resp:\n",
        "    bot286_message = random.choice(resp[message])\n",
        "  else:\n",
        "    bot286_message = random.choice(resp[\"default\"])\n",
        "  return bot286_message"
      ]
    },
    {
      "cell_type": "code",
      "execution_count": 3,
      "metadata": {
        "id": "897QdYRLN1S1"
      },
      "outputs": [],
      "source": [
        "\n",
        "def real(xtext):\n",
        "  if \"name\" in xtext:\n",
        "    ytext = \"what's your name?\"\n",
        "  elif \"monsoon\" in xtext:\n",
        "    ytext = \"what's today's weather?\"\n",
        "  elif \"how are\" in xtext:\n",
        "    ytext = \"how are you?\"\n",
        "  else:\n",
        "    ytext = \"\"\n",
        "  return ytext"
      ]
    },
    {
      "cell_type": "code",
      "execution_count": 5,
      "metadata": {
        "id": "0Tt8QOs8QaS_"
      },
      "outputs": [],
      "source": [
        "def send_message(message):\n",
        "  print((message))\n",
        "  response = res(message)\n",
        "  print((response))"
      ]
    },
    {
      "cell_type": "code",
      "execution_count": 6,
      "metadata": {
        "colab": {
          "base_uri": "https://localhost:8080/"
        },
        "id": "02tBTkycPEHG",
        "outputId": "4c0c5596-0345-4c1b-aec5-08be3a075925"
      },
      "outputs": [
        {
          "output_type": "stream",
          "name": "stdout",
          "text": [
            "hi\n",
            "\n",
            "What do you mean by these?\n",
            "What's your name\n",
            "what's your name?\n",
            "They call me Monkey D Luffy\n",
            "stop\n",
            "\n",
            "What do you mean by these?\n"
          ]
        }
      ],
      "source": [
        "while 1:\n",
        "   my_input = input()\n",
        "   my_input = my_input.lower()\n",
        "   related_text = real(my_input)\n",
        "   send_message(related_text)\n",
        "   if my_input == \"exit\" or my_input == \"stop\":\n",
        "     break"
      ]
    },
    {
      "cell_type": "code",
      "execution_count": null,
      "metadata": {
        "id": "3wLYuE8dPGEG",
        "colab": {
          "base_uri": "https://localhost:8080/"
        },
        "outputId": "4a4bd40a-de81-4189-e0ea-d3641749767a"
      },
      "outputs": [
        {
          "output_type": "stream",
          "name": "stdout",
          "text": [
            "Looking in indexes: https://pypi.org/simple, https://us-python.pkg.dev/colab-wheels/public/simple/\n",
            "Requirement already satisfied: chatterbot in /usr/local/lib/python3.7/dist-packages (1.0.8)\n",
            "Requirement already satisfied: sqlalchemy<1.4,>=1.3 in /usr/local/lib/python3.7/dist-packages (from chatterbot) (1.3.24)\n",
            "Requirement already satisfied: python-dateutil<2.9,>=2.8 in /usr/local/lib/python3.7/dist-packages (from chatterbot) (2.8.2)\n",
            "Requirement already satisfied: mathparse<0.2,>=0.1 in /usr/local/lib/python3.7/dist-packages (from chatterbot) (0.1.2)\n",
            "Requirement already satisfied: pytz in /usr/local/lib/python3.7/dist-packages (from chatterbot) (2022.4)\n",
            "Requirement already satisfied: six>=1.5 in /usr/local/lib/python3.7/dist-packages (from python-dateutil<2.9,>=2.8->chatterbot) (1.15.0)\n"
          ]
        }
      ],
      "source": [
        "#2 topic\n",
        "!pip install chatterbot"
      ]
    },
    {
      "cell_type": "code",
      "source": [
        "!pip install chatterbot_corpus\n"
      ],
      "metadata": {
        "colab": {
          "base_uri": "https://localhost:8080/"
        },
        "id": "P8gi811OcvCm",
        "outputId": "44eb30f8-b988-45f4-b99d-0cc37cc22e03"
      },
      "execution_count": null,
      "outputs": [
        {
          "output_type": "stream",
          "name": "stdout",
          "text": [
            "Looking in indexes: https://pypi.org/simple, https://us-python.pkg.dev/colab-wheels/public/simple/\n",
            "Requirement already satisfied: chatterbot_corpus in /usr/local/lib/python3.7/dist-packages (1.2.0)\n",
            "Requirement already satisfied: PyYAML<4.0,>=3.12 in /usr/local/lib/python3.7/dist-packages (from chatterbot_corpus) (3.13)\n"
          ]
        }
      ]
    },
    {
      "cell_type": "code",
      "source": [
        "from chatterbot import ChatBot\n"
      ],
      "metadata": {
        "id": "oDIAsRS2NXOl"
      },
      "execution_count": null,
      "outputs": []
    },
    {
      "cell_type": "code",
      "source": [
        "chatbot = ChatBot('Luffy')"
      ],
      "metadata": {
        "id": "0DgmoBvjclae",
        "colab": {
          "base_uri": "https://localhost:8080/",
          "height": 165
        },
        "outputId": "4f3c29bd-409d-422e-b870-86b562cc34ae"
      },
      "execution_count": 4,
      "outputs": [
        {
          "output_type": "error",
          "ename": "NameError",
          "evalue": "ignored",
          "traceback": [
            "\u001b[0;31m---------------------------------------------------------------------------\u001b[0m",
            "\u001b[0;31mNameError\u001b[0m                                 Traceback (most recent call last)",
            "\u001b[0;32m<ipython-input-4-0a8ed22a158a>\u001b[0m in \u001b[0;36m<cell line: 1>\u001b[0;34m()\u001b[0m\n\u001b[0;32m----> 1\u001b[0;31m \u001b[0mchatbot\u001b[0m \u001b[0;34m=\u001b[0m \u001b[0mChatBot\u001b[0m\u001b[0;34m(\u001b[0m\u001b[0;34m'Luffy'\u001b[0m\u001b[0;34m)\u001b[0m\u001b[0;34m\u001b[0m\u001b[0;34m\u001b[0m\u001b[0m\n\u001b[0m",
            "\u001b[0;31mNameError\u001b[0m: name 'ChatBot' is not defined"
          ]
        }
      ]
    },
    {
      "cell_type": "code",
      "source": [],
      "metadata": {
        "id": "ql1SkPDaOqvD"
      },
      "execution_count": null,
      "outputs": []
    }
  ],
  "metadata": {
    "colab": {
      "provenance": [],
      "authorship_tag": "ABX9TyOSIsAtzkCJId64bKC+BaoG",
      "include_colab_link": true
    },
    "kernelspec": {
      "display_name": "Python 3",
      "name": "python3"
    },
    "language_info": {
      "name": "python"
    }
  },
  "nbformat": 4,
  "nbformat_minor": 0
}